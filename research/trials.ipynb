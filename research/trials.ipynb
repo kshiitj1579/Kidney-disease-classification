{
 "cells": [
  {
   "cell_type": "code",
   "execution_count": 1,
   "id": "48f945be",
   "metadata": {},
   "outputs": [],
   "source": [
    "import gdown"
   ]
  },
  {
   "cell_type": "code",
   "execution_count": 2,
   "id": "80eaa1d5",
   "metadata": {},
   "outputs": [],
   "source": [
    "url=\"https://drive.google.com/file/d/1835klpvgNBp_bYvJzEv4QOBAaAHcz9yX/view?usp=drive_link\""
   ]
  },
  {
   "cell_type": "code",
   "execution_count": 6,
   "id": "9195ca75",
   "metadata": {},
   "outputs": [
    {
     "data": {
      "text/plain": [
       "['https:',\n",
       " '',\n",
       " 'drive.google.com',\n",
       " 'file',\n",
       " 'd',\n",
       " '1835klpvgNBp_bYvJzEv4QOBAaAHcz9yX',\n",
       " 'view?usp=drive_link']"
      ]
     },
     "execution_count": 6,
     "metadata": {},
     "output_type": "execute_result"
    }
   ],
   "source": [
    "url.split(\"/\")"
   ]
  },
  {
   "cell_type": "code",
   "execution_count": 7,
   "id": "aa87db0c",
   "metadata": {},
   "outputs": [],
   "source": [
    "file_id=url.split(\"/\")[-2]"
   ]
  },
  {
   "cell_type": "code",
   "execution_count": 8,
   "id": "edfce985",
   "metadata": {},
   "outputs": [
    {
     "data": {
      "text/plain": [
       "'1835klpvgNBp_bYvJzEv4QOBAaAHcz9yX'"
      ]
     },
     "execution_count": 8,
     "metadata": {},
     "output_type": "execute_result"
    }
   ],
   "source": [
    "file_id"
   ]
  },
  {
   "cell_type": "code",
   "execution_count": 9,
   "id": "1039bd79",
   "metadata": {},
   "outputs": [
    {
     "name": "stderr",
     "output_type": "stream",
     "text": [
      "Downloading...\n",
      "From (original): https://drive.google.com/uc?/export=download&id=1835klpvgNBp_bYvJzEv4QOBAaAHcz9yX\n",
      "From (redirected): https://drive.google.com/uc?%2Fexport=download&id=1835klpvgNBp_bYvJzEv4QOBAaAHcz9yX&confirm=t&uuid=d16bede6-773a-410c-9a5a-61838ef1dc6f\n",
      "To: c:\\Users\\DELL\\Downloads\\github\\Kidney-disease-classification\\research\\kidney-data.zip\n",
      "100%|██████████| 941M/941M [00:39<00:00, 24.0MB/s] \n"
     ]
    },
    {
     "data": {
      "text/plain": [
       "'kidney-data.zip'"
      ]
     },
     "execution_count": 9,
     "metadata": {},
     "output_type": "execute_result"
    }
   ],
   "source": [
    "prefix = 'https://drive.google.com/uc?/export=download&id='\n",
    "gdown.download(prefix+file_id, \"kidney-data.zip\")"
   ]
  },
  {
   "cell_type": "code",
   "execution_count": null,
   "id": "c088bf7a",
   "metadata": {},
   "outputs": [],
   "source": []
  }
 ],
 "metadata": {
  "kernelspec": {
   "display_name": "kidney",
   "language": "python",
   "name": "python3"
  },
  "language_info": {
   "codemirror_mode": {
    "name": "ipython",
    "version": 3
   },
   "file_extension": ".py",
   "mimetype": "text/x-python",
   "name": "python",
   "nbconvert_exporter": "python",
   "pygments_lexer": "ipython3",
   "version": "3.10.18"
  }
 },
 "nbformat": 4,
 "nbformat_minor": 5
}
